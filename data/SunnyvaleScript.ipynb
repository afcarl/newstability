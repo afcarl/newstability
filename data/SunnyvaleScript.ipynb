{
 "cells": [
  {
   "cell_type": "code",
   "execution_count": 9,
   "metadata": {
    "collapsed": false
   },
   "outputs": [
    {
     "data": {
      "text/plain": [
       "127"
      ]
     },
     "execution_count": 9,
     "metadata": {},
     "output_type": "execute_result"
    }
   ],
   "source": [
    "from subprocess import call\n",
    "\n",
    "with open(sunnyvale.sh\", \"w\") as of:\n",
    "    of.write(\"#!/bin/bash\\n\")\n",
    "    of.write(\"#PBS -l nodes=1:ppn=1\\n\")\n",
    "    of.write(\"#PBS -q workq\\n\")\n",
    "    of.write(\"#PBS -r n\\n\")\n",
    "    of.write(\"#PBS -l walltime=48:00:00\\n\")\n",
    "    of.write(\"#PBS -N stability\\n\")\n",
    "    of.write(\"# EVERYTHING ABOVE THIS COMMENT IS NECESSARY, SHOULD ONLY CHANGE nodes,ppn,walltime and my_job_name VALUES\\n\")\n",
    "    of.write(\"cd $PBS_O_WORKDIR\\n\")\n",
    "    of.write(\"module load gcc/4.9.2\\n\")\n",
    "    of.write(\"source /mnt/raid-cita/dtamayo/p2/bin/activate\\n\")\n",
    "    of.write(\"python run.py {0}\".format(0))\n",
    "    \n",
    "call(\"chmod u=rwx sunnyvale.sh\", shell=True)\n",
    "call(\"qsub sunnyvale.sh\", shell=True)"
   ]
  },
  {
   "cell_type": "code",
   "execution_count": null,
   "metadata": {
    "collapsed": true
   },
   "outputs": [],
   "source": []
  }
 ],
 "metadata": {
  "kernelspec": {
   "display_name": "Python 2",
   "language": "python",
   "name": "python2"
  },
  "language_info": {
   "codemirror_mode": {
    "name": "ipython",
    "version": 2
   },
   "file_extension": ".py",
   "mimetype": "text/x-python",
   "name": "python",
   "nbconvert_exporter": "python",
   "pygments_lexer": "ipython2",
   "version": "2.7.10"
  }
 },
 "nbformat": 4,
 "nbformat_minor": 1
}
